{
 "cells": [
  {
   "cell_type": "code",
   "execution_count": 22,
   "metadata": {},
   "outputs": [
    {
     "name": "stdout",
     "output_type": "stream",
     "text": [
      "Requirement already satisfied: scikinC in /opt/homebrew/anaconda3/lib/python3.12/site-packages (0.2.6)\n",
      "Requirement already satisfied: numpy in /opt/homebrew/anaconda3/lib/python3.12/site-packages (from scikinC) (1.26.4)\n",
      "Requirement already satisfied: scipy in /opt/homebrew/anaconda3/lib/python3.12/site-packages (from scikinC) (1.13.1)\n",
      "Requirement already satisfied: scikit-learn in /opt/homebrew/anaconda3/lib/python3.12/site-packages (from scikinC) (1.5.1)\n",
      "Requirement already satisfied: joblib>=1.2.0 in /opt/homebrew/anaconda3/lib/python3.12/site-packages (from scikit-learn->scikinC) (1.4.2)\n",
      "Requirement already satisfied: threadpoolctl>=3.1.0 in /opt/homebrew/anaconda3/lib/python3.12/site-packages (from scikit-learn->scikinC) (3.5.0)\n"
     ]
    }
   ],
   "source": [
    "!pip install scikinC"
   ]
  },
  {
   "cell_type": "code",
   "execution_count": 25,
   "metadata": {},
   "outputs": [
    {
     "ename": "TypeError",
     "evalue": "Wrapper.__init__() got an unexpected keyword argument 'input_type'",
     "output_type": "error",
     "traceback": [
      "\u001b[0;31m---------------------------------------------------------------------------\u001b[0m",
      "\u001b[0;31mTypeError\u001b[0m                                 Traceback (most recent call last)",
      "Cell \u001b[0;32mIn[25], line 21\u001b[0m\n\u001b[1;32m     19\u001b[0m model \u001b[38;5;241m=\u001b[39m pickle\u001b[38;5;241m.\u001b[39mload(\u001b[38;5;28mopen\u001b[39m(file, \u001b[38;5;124m'\u001b[39m\u001b[38;5;124mrb\u001b[39m\u001b[38;5;124m'\u001b[39m))\n\u001b[1;32m     20\u001b[0m \u001b[38;5;66;03m# 파일을 C 언어로 변환한다 (float도 입력 가능하도록 수정)\u001b[39;00m\n\u001b[0;32m---> 21\u001b[0m cmodel \u001b[38;5;241m=\u001b[39m emlearn\u001b[38;5;241m.\u001b[39mconvert(model, method\u001b[38;5;241m=\u001b[39m\u001b[38;5;124m'\u001b[39m\u001b[38;5;124minline\u001b[39m\u001b[38;5;124m'\u001b[39m, input_type\u001b[38;5;241m=\u001b[39m\u001b[38;5;124m'\u001b[39m\u001b[38;5;124mfloat\u001b[39m\u001b[38;5;124m'\u001b[39m)\n\u001b[1;32m     22\u001b[0m cmodel\u001b[38;5;241m.\u001b[39msave(file \u001b[38;5;241m=\u001b[39m \u001b[38;5;124mf\u001b[39m\u001b[38;5;124m'\u001b[39m\u001b[38;5;124mmodel/export/\u001b[39m\u001b[38;5;132;01m{\u001b[39;00mmodel_name\u001b[38;5;132;01m}\u001b[39;00m\u001b[38;5;124m.h\u001b[39m\u001b[38;5;124m'\u001b[39m, name \u001b[38;5;241m=\u001b[39m model_name)\n",
      "File \u001b[0;32m/opt/homebrew/anaconda3/lib/python3.12/site-packages/emlearn/convert.py:69\u001b[0m, in \u001b[0;36mconvert\u001b[0;34m(estimator, kind, method, dtype, return_type, **kwargs)\u001b[0m\n\u001b[1;32m     66\u001b[0m \u001b[38;5;66;03m# Use name instead of instance to avoid hard dependency on the libraries\u001b[39;00m\n\u001b[1;32m     67\u001b[0m \u001b[38;5;28;01mif\u001b[39;00m kind \u001b[38;5;129;01min\u001b[39;00m \u001b[38;5;28mset\u001b[39m(trees\u001b[38;5;241m.\u001b[39mSUPPORTED_ESTIMATORS):\n\u001b[1;32m     68\u001b[0m     \u001b[38;5;66;03m# return_type is intentionally not passed through - the Wrapper will guess based on Class name\u001b[39;00m\n\u001b[0;32m---> 69\u001b[0m     \u001b[38;5;28;01mreturn\u001b[39;00m trees\u001b[38;5;241m.\u001b[39mWrapper(estimator, method, dtype\u001b[38;5;241m=\u001b[39mdtype, \u001b[38;5;241m*\u001b[39m\u001b[38;5;241m*\u001b[39mkwargs)\n\u001b[1;32m     70\u001b[0m \u001b[38;5;28;01melif\u001b[39;00m kind \u001b[38;5;129;01min\u001b[39;00m [\u001b[38;5;124m'\u001b[39m\u001b[38;5;124mEllipticEnvelope\u001b[39m\u001b[38;5;124m'\u001b[39m]:\n\u001b[1;32m     71\u001b[0m     \u001b[38;5;28;01mif\u001b[39;00m dtype \u001b[38;5;129;01mis\u001b[39;00m \u001b[38;5;28;01mNone\u001b[39;00m:\n",
      "\u001b[0;31mTypeError\u001b[0m: Wrapper.__init__() got an unexpected keyword argument 'input_type'"
     ]
    }
   ],
   "source": [
    "import os\n",
    "import glob\n",
    "import emlearn\n",
    "import pickle\n",
    "\n",
    "# model 폴더의 모든 파일을 가져옵니다. (export 폴더 제외)\n",
    "model_files = glob.glob('model/*')\n",
    "export_folder = 'model/export'\n",
    "\n",
    "# export 폴더가 존재하지 않으면 생성합니다.\n",
    "if not os.path.exists(export_folder):\n",
    "    os.makedirs(export_folder)\n",
    "\n",
    "# 각 파일을 emlearn을 이용해 C 언어로 변환합니다.\n",
    "for file in model_files:\n",
    "    if os.path.basename(file) != 'export':  # export 폴더는 제외\n",
    "        # 각 파일의 이름을 가져온다 (확장자 제거)\n",
    "        model_name = os.path.basename(file).split('.')[0]\n",
    "        model = pickle.load(open(file, 'rb'))\n",
    "        # 파일을 C 언어로 변환한다 (float도 입력 가능하도록 수정)\n",
    "        cmodel = emlearn.convert(model, method='inline')\n",
    "        cmodel.save(file = f'model/export/{model_name}.h', name = model_name)"
   ]
  },
  {
   "cell_type": "code",
   "execution_count": null,
   "metadata": {},
   "outputs": [],
   "source": []
  }
 ],
 "metadata": {
  "kernelspec": {
   "display_name": "base",
   "language": "python",
   "name": "python3"
  },
  "language_info": {
   "codemirror_mode": {
    "name": "ipython",
    "version": 3
   },
   "file_extension": ".py",
   "mimetype": "text/x-python",
   "name": "python",
   "nbconvert_exporter": "python",
   "pygments_lexer": "ipython3",
   "version": "3.12.4"
  }
 },
 "nbformat": 4,
 "nbformat_minor": 2
}
